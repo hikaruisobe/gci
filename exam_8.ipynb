{
 "cells": [
  {
   "cell_type": "markdown",
   "metadata": {},
   "source": [
    "# 修了試験（ilect上で提出してください）"
   ]
  },
  {
   "cell_type": "markdown",
   "metadata": {},
   "source": [
    "## Chapter 8 データベースとSQLの基礎"
   ]
  },
  {
   "cell_type": "markdown",
   "metadata": {},
   "source": [
    "chapter8の総合問題1でも扱った以下のデータベース(world)を使って、後の問いに答えてください。(**ただし、解答を提出するときは、答えだけを貼り付けて、その処理等は記載しないでください**)\n",
    "\n",
    "https://dev.mysql.com/doc/world-setup/en/\n",
    "\n",
    "cityテーブルにあるCountryCodeについて、**一番レコード数が多いCountryCode**は何でしょうか？SQLで処理をして、答えを貼り付けてください。"
   ]
  },
  {
   "cell_type": "markdown",
   "metadata": {},
   "source": [
    "提出するときは、以下の点に注意してください。  \n",
    ">- 以下の関数homework8の!!WRITE ME!!に答えを書いてください。(**「!!WRITE ME!!」は消して、記入してください。**)\n",
    ">- 実際の提出は記述されたhomework関数全てになり、**提出場所はilect上にあるHomeworkからSaveしてください。Solutionに関数を貼り付けます。** \n",
    ">- 返り値が文字型になるようにしてください。(例) もし答えがAAAだったら、 my_result = \"AAA\"　のように記載します。(空白文字など入らないようにしてください。)\n",
    ">- 答えのみ貼り付け、提出するときは処理等は記載しないでください。"
   ]
  },
  {
   "cell_type": "code",
   "execution_count": null,
   "metadata": {
    "collapsed": true
   },
   "outputs": [],
   "source": [
    "# working place. everything \n",
    "def homework8():\n",
    "    my_result = !!WRITE ME!!\n",
    "    return my_result"
   ]
  }
 ],
 "metadata": {
  "anaconda-cloud": {},
  "kernelspec": {
   "display_name": "Python [Root]",
   "language": "python",
   "name": "Python [Root]"
  },
  "language_info": {
   "codemirror_mode": {
    "name": "ipython",
    "version": 3
   },
   "file_extension": ".py",
   "mimetype": "text/x-python",
   "name": "python",
   "nbconvert_exporter": "python",
   "pygments_lexer": "ipython3",
   "version": "3.5.2"
  }
 },
 "nbformat": 4,
 "nbformat_minor": 0
}
