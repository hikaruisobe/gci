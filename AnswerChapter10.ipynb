{
 "cells": [
  {
   "cell_type": "markdown",
   "metadata": {},
   "source": [
    "# Chapter 10 練習と総合問題解答"
   ]
  },
  {
   "cell_type": "markdown",
   "metadata": {},
   "source": [
    "## 練習問題"
   ]
  },
  {
   "cell_type": "markdown",
   "metadata": {},
   "source": [
    "**<練習問題1>**\n",
    "\n",
    "ハッシュタグ（`hashtags`）がちょうど7つあるツイートを数を求めよ。(ヒント: `$size`演算子を使う)"
   ]
  },
  {
   "cell_type": "code",
   "execution_count": null,
   "metadata": {
    "collapsed": true
   },
   "outputs": [],
   "source": [
    "解答例:\n",
    "len(list(db.tweets.find({'entities.hashtags': {'$size': 7}}, {'_id': 0, 'text': 1})))\n",
    "\n",
    "出力:\n",
    "23"
   ]
  },
  {
   "cell_type": "markdown",
   "metadata": {},
   "source": [
    "**<練習問題2>**\n",
    "\n",
    "データセットに登場するすべてのハッシュタグをunwindし、数の多いものの順位に上位20ハッシュタグを求めよ。"
   ]
  },
  {
   "cell_type": "markdown",
   "metadata": {},
   "source": [
    "# 解答例:\n",
    "cursor = db.tweets.aggregate([\n",
    "    {\"$project\": {\"hashtag\": \"$entities.hashtags.text\"}},\n",
    "    {\"$unwind\": \"$hashtag\"},                    \n",
    "    {\"$group\": {\"_id\": \"$hashtag\", \"count\" : {\"$sum\" : 1}}},\n",
    "    {\"$sort\": {\"count\": -1}},\n",
    "    {\"$limit\": 20}\n",
    "])\n",
    "for doc in cursor:\n",
    "    print('{d[_id]:20s} {d[count]}'.format(d=doc))\n",
    "    \n",
    "出力:\n",
    "Python               303\n",
    "python               230\n",
    "computervision       52\n",
    "DataScience          50\n",
    "BigData              50\n",
    "MachineLearning      41\n",
    "AI                   35\n",
    "100DaysOfCode        30\n",
    "coding               23\n",
    "pythonbot_           21\n",
    "datascience          19\n",
    "django               19\n",
    "programming          19\n",
    "Java                 18\n",
    "javascript           16\n",
    "software             16\n",
    "DeepLearning         16\n",
    "IoT                  14\n",
    "yasapy               14\n",
    "Programming          13"
   ]
  },
  {
   "cell_type": "markdown",
   "metadata": {},
   "source": [
    "**<練習問題3>**\n",
    "\n",
    "上記に検索に対して`explain`を使って、実際どのような検索が行われているかを調べてください。"
   ]
  },
  {
   "cell_type": "raw",
   "metadata": {},
   "source": [
    "解答例1:\n",
    "cursor.explain()\n",
    "\n",
    "解答例2:\n",
    "db.tweets.find({'entities.hashtags.text': 'Javascript', 'lang': 'fr'}.explain()"
   ]
  },
  {
   "cell_type": "markdown",
   "metadata": {},
   "source": [
    "**<練習問題4>**\n",
    "\n",
    "すでに存在するドキュメント（ツイート）の`ObjectId`を使った新しいドキュメントを`tweets`コレクションに挿入してみて、`_id`に対するインデックスがUniqueであること(すなわち`DuplicateKeyError`が発生すること)を確認してください。"
   ]
  },
  {
   "cell_type": "raw",
   "metadata": {},
   "source": [
    "解答例：\n",
    "try:\n",
    "    db.tweets.insert_one({'_id': ObjectId(\"5a65ae6c2b2a8000afa27938\"), 'text': 'foo'})\n",
    "except pymongo.errors.DuplicateKeyError as e:\n",
    "    print(repr(e))\n",
    "\n",
    "出力：\n",
    "DuplicateKeyError(\"E11000 duplicate key error collection: twitter.tweets index: _id_ dup key: { : ObjectId('5a65ae6c2b2a8000afa27938') }\",)"
   ]
  },
  {
   "cell_type": "markdown",
   "metadata": {},
   "source": [
    "#### **<練習問題5>**\n",
    "\n",
    "上記に紹介したコマンドを実行し、どのような出力なのかを見てみてください。"
   ]
  },
  {
   "cell_type": "raw",
   "metadata": {},
   "source": [
    "解答例：\n",
    "db.tweets.stats()"
   ]
  },
  {
   "cell_type": "markdown",
   "metadata": {},
   "source": [
    "## 総合問題"
   ]
  },
  {
   "cell_type": "markdown",
   "metadata": {},
   "source": [
    "### 10.5.1 基本操作の復習\n",
    "1. 各ツイートのユーザ位置情報に「Japan」もしくは「日本」という文字列が含まれていてかつ言語が英語であるものを検索し、該当ツイートの本文および`ObjectId`のみを取得せよ。\n",
    "2. 各ツイートのユーザ位置情報を言語毎の集合にグループ化せよ。（ヒント: `$project`、`$unwind`、`$addToSet`を使用せよ。）"
   ]
  },
  {
   "cell_type": "raw",
   "metadata": {},
   "source": [
    "解答例:\n",
    "\n",
    "1.\n",
    "cur = db.tweets.find({'user.location': {'$regex': 'Japan|日本'}, 'lang': 'en'}, {'user.location':1}))\n",
    "list(cur)\n",
    "\n",
    "2.\n",
    "agg = db.tweets.aggregate([{'$project': {'location': '$user.location', \"lang\": 1}},\n",
    "                     {'$unwind': '$location'},                    \n",
    "                     {'$group': {\"_id\": \"$lang\", \"locations\": {'$addToSet': '$location'}}},\n",
    "                    ])\n",
    "list(agg)"
   ]
  },
  {
   "cell_type": "markdown",
   "metadata": {},
   "source": [
    "### 10.5.2 Geospatialインデックスの応用"
   ]
  },
  {
   "cell_type": "raw",
   "metadata": {},
   "source": [
    "解答例なし"
   ]
  }
 ],
 "metadata": {
  "kernelspec": {
   "display_name": "Python 3",
   "language": "python",
   "name": "python3"
  },
  "language_info": {
   "codemirror_mode": {
    "name": "ipython",
    "version": 3
   },
   "file_extension": ".py",
   "mimetype": "text/x-python",
   "name": "python",
   "nbconvert_exporter": "python",
   "pygments_lexer": "ipython3",
   "version": "3.6.1"
  }
 },
 "nbformat": 4,
 "nbformat_minor": 2
}
