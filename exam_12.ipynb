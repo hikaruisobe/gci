{
 "cells": [
  {
   "cell_type": "markdown",
   "metadata": {},
   "source": [
    "# 修了試験（ilect上で提出してください）"
   ]
  },
  {
   "cell_type": "markdown",
   "metadata": {},
   "source": [
    "## 12 機械学習の基礎（教師なし学習）"
   ]
  },
  {
   "cell_type": "markdown",
   "metadata": {},
   "source": [
    "総合問題でも扱った購買データをベースに以下の問いに答えて、課題を提出してください。（データの前処理は、以下の記載の通りに使ってください。）\n",
    "    \n",
    "問題は、12章の最後の総合問題で求めた最も支持度が高かった商品の2つの組み合わせについて、その2つの商品について**リフト値**を求めてください。\n",
    "\n",
    "提出するときは、以下の点に注意してください。  \n",
    ">- 以下の関数homework12の!!WRITE ME!!に処理を書いてください。(**「!!WRITE ME!!」は消して、記入してください。**)\n",
    ">- 実際の提出は記述されたhomework関数全てになり、**提出場所はilect上にあるHomeworkからSaveしてください。Solutionに関数を貼り付けます。**\n",
    ">- 前処理は以下のコードを使ってください。  \n",
    ">- 返り値が数値型になるようにしてください。  "
   ]
  },
  {
   "cell_type": "code",
   "execution_count": 1,
   "metadata": {
    "collapsed": true
   },
   "outputs": [],
   "source": [
    "# common\n",
    "import pandas as pd\n",
    "import numpy as np\n",
    "\n",
    "## init part(データの読み込みと前処理)\n",
    "file_url = \"http://archive.ics.uci.edu/ml/machine-learning-databases/00352/Online%20Retail.xlsx\"\n",
    "online_retail_data = pd.ExcelFile(file_url)\n",
    "online_retail_data_table = online_retail_data.parse('Online Retail')\n",
    "\n",
    "online_retail_data_table['cancel_flg'] = online_retail_data_table.InvoiceNo.map(lambda x:str(x)[0])\n",
    "\n",
    "# 数字があるものとIDがNullでないものが対象\n",
    "target_online_retail_data_tb = online_retail_data_table[(online_retail_data_table.cancel_flg == '5') \n",
    "                                                        & (online_retail_data_table.CustomerID.notnull())]\n",
    "\n",
    "target_online_retail_data_tb = target_online_retail_data_tb.assign(TotalPrice=target_online_retail_data_tb.Quantity * target_online_retail_data_tb.UnitPrice)"
   ]
  },
  {
   "cell_type": "code",
   "execution_count": null,
   "metadata": {
    "collapsed": true
   },
   "outputs": [],
   "source": [
    "# working place. everything \n",
    "def homework12(target_online_retail_data_tb):\n",
    "    !!WRITE ME!!\n",
    "    return my_result  "
   ]
  }
 ],
 "metadata": {
  "anaconda-cloud": {},
  "kernelspec": {
   "display_name": "Python [Root]",
   "language": "python",
   "name": "Python [Root]"
  },
  "language_info": {
   "codemirror_mode": {
    "name": "ipython",
    "version": 3
   },
   "file_extension": ".py",
   "mimetype": "text/x-python",
   "name": "python",
   "nbconvert_exporter": "python",
   "pygments_lexer": "ipython3",
   "version": "3.5.2"
  }
 },
 "nbformat": 4,
 "nbformat_minor": 0
}
