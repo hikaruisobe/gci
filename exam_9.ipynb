{
 "cells": [
  {
   "cell_type": "markdown",
   "metadata": {},
   "source": [
    "# 修了試験（ilect上で提出してください）"
   ]
  },
  {
   "cell_type": "markdown",
   "metadata": {},
   "source": [
    "## 9 データベースの応用（高度なSQL処理と高速化）"
   ]
  },
  {
   "cell_type": "markdown",
   "metadata": {},
   "source": [
    "chapter9の総合問題1でも扱った以下のデータベース(sakila)を使って、後の問いに答えてください。(**ただし、解答を提出するときは、答えだけを貼り付けて、その処理等は記載しないでください**)\n",
    "\n",
    "https://dev.mysql.com/doc/sakila/en/\n",
    "\n",
    "以下のようにスタッフ毎に設備をレンタルを担当した回数をレンタル日の月別にクロス表で集計してください(SQLでまとめて処理してください)。そしてその結果をもとに、**提出と書いてあるセルを取得し、それを返り値**としてください。"
   ]
  },
  {
   "cell_type": "markdown",
   "metadata": {},
   "source": [
    "|  | 2005-05 | 2005-06 | 2005-07 | 2005-08 \n",
    "|---|---|----|-----|\n",
    "| Mike Hillyer | ? | ? | ? | ? |\n",
    "| Jon Stephens | ? | ? | **提出** | ? |"
   ]
  },
  {
   "cell_type": "markdown",
   "metadata": {},
   "source": [
    "提出するときは、以下の点に注意してください。  \n",
    ">- 以下の関数homework9の!!WRITE ME!!に答えを書いてください。(**「!!WRITE ME!!」は消して、記入してください。**)\n",
    ">- 実際の提出は記述されたhomework関数全てになり、**提出場所はilect上にあるHomeworkからSaveしてください。Solutionに関数を貼り付けます。** \n",
    ">- 返り値が数値型になるようにしてください。(例) もし答えが123だったら、 my_result = 123　のように記載します。\n",
    ">- 答えのみ貼り付け、提出するときは処理等は記載しないでください。"
   ]
  },
  {
   "cell_type": "code",
   "execution_count": null,
   "metadata": {
    "collapsed": true
   },
   "outputs": [],
   "source": [
    "# working place. everything \n",
    "def homework9():\n",
    "    my_result = !!WRITE ME!!\n",
    "    return my_result"
   ]
  }
 ],
 "metadata": {
  "anaconda-cloud": {},
  "kernelspec": {
   "display_name": "Python 3",
   "language": "python",
   "name": "python3"
  },
  "language_info": {
   "codemirror_mode": {
    "name": "ipython",
    "version": 3
   },
   "file_extension": ".py",
   "mimetype": "text/x-python",
   "name": "python",
   "nbconvert_exporter": "python",
   "pygments_lexer": "ipython3",
   "version": "3.6.2"
  }
 },
 "nbformat": 4,
 "nbformat_minor": 2
}
